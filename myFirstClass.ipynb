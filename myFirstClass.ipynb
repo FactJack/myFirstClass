{
 "cells": [
  {
   "cell_type": "markdown",
   "id": "ef5df54c",
   "metadata": {},
   "source": [
    "# Object Oriented Programming - The Big Idea\n",
    "--- Program by customizing what has already been done, rather than copying or changing existing code. ---\n",
    "\n",
    "*Boring Definition:* Object-Oriented Programming (OOP) is a programming paradigm that organizes code around objects, which are instances of classes. It emphasizes modeling real-world entities as objects that have data (attributes) and behavior (methods) bundled together. OOP aims to make code more modular, reusable, and easier to maintain by structuring it around these objects and their interactions.\n",
    "\n",
    "*`Class`*: A blueprint or template that defines the structure (attributes) and behavior (methods) of objects. It acts as a user-defined data type.\n",
    "\n",
    "*`Object`*: Sometimes referred to an instance of a class, representing a specific entity with the defined attributes and behaviors. \n",
    "\n",
    "You already experienced objects, such as `str` and `int`. <br>\n",
    " `str` and `int` are classes that defined the objects (or instances) called. "
   ]
  },
  {
   "cell_type": "code",
   "execution_count": 197,
   "id": "d40576b8",
   "metadata": {},
   "outputs": [
    {
     "name": "stdout",
     "output_type": "stream",
     "text": [
      "Buddy says Woof!\n"
     ]
    }
   ],
   "source": [
    "# A simple example of a class object in Python\n",
    "# You may also say this is a class definition, or an object that defines a class.\n",
    "\n",
    "class Dog:\n",
    "    def __init__(self, name):\n",
    "        self.name = name  # Attribute\n",
    "    def bark(self):      # Method\n",
    "        return f'{self.name} says Woof!'\n",
    "\n",
    "dog = Dog(\"Buddy\")  # Object (or instance) of the Dog class\n",
    "print(dog.bark())   # Output: Buddy says Woof!"
   ]
  },
  {
   "cell_type": "markdown",
   "id": "359ee55c",
   "metadata": {},
   "source": [
    "## Aspects ##"
   ]
  },
  {
   "cell_type": "markdown",
   "id": "807ef7b6",
   "metadata": {},
   "source": [
    "#### *Inheritance* #### \n",
    "A mechanism where a new class (subclass or derived class) inherits properties and behaviors (attributes and methods) from an existing class (superclass or base class). Promotes code reuse and establishes a hierarchical relationship between classes. EG: Pizza-making robots are kinds of robots, so they possess the usual robot-y properties. "
   ]
  },
  {
   "cell_type": "markdown",
   "id": "3b1f0ab9",
   "metadata": {},
   "source": [
    "Attribute Inheritance Search: Find the first occurrence of the attribute by looking in object, then in all classes above it, from bottom to top and left to right.\n",
    "\n",
    "In other words, attribute fetches are simply tree searches. "
   ]
  },
  {
   "cell_type": "code",
   "execution_count": 198,
   "id": "1d436827",
   "metadata": {},
   "outputs": [
    {
     "name": "stdout",
     "output_type": "stream",
     "text": [
      "Eating...\n",
      "Woof!\n"
     ]
    }
   ],
   "source": [
    "# A simple example of inheritance in Python\n",
    "class Animal:\n",
    "    def eat(self):\n",
    "        return \"Eating...\"\n",
    "\n",
    "class Dog(Animal):  # Dog inherits from Animal\n",
    "    def bark(self):\n",
    "        return \"Woof!\"\n",
    "\n",
    "dog = Dog()\n",
    "print(dog.eat())   # Output: Eating... (inherited)\n",
    "print(dog.bark())  # Output: Woof!"
   ]
  },
  {
   "cell_type": "markdown",
   "id": "017f3e92",
   "metadata": {},
   "source": [
    "#### *Composition* ####"
   ]
  },
  {
   "cell_type": "markdown",
   "id": "b94f1c64",
   "metadata": {},
   "source": [
    "Association: A general relationship between objects where they interact but remain independent. <br>\n",
    "Aggregation: A special form of association where one object contains or manages a collection of other objects (a \"has-a\" relationship, but objects can exist independently). <br>\n",
    "Composition: A stronger form of aggregation where the contained objects are dependent on the container (if the container is destroyed, so are the contained objects)."
   ]
  },
  {
   "cell_type": "code",
   "execution_count": 199,
   "id": "f37124fd",
   "metadata": {},
   "outputs": [
    {
     "name": "stdout",
     "output_type": "stream",
     "text": [
      "Engine started and car is driving\n"
     ]
    }
   ],
   "source": [
    "# A simple example of Composition in Python\n",
    "class Engine:\n",
    "    def start(self):\n",
    "        return \"Engine started\"\n",
    "\n",
    "class Car:\n",
    "    def __init__(self):\n",
    "        self.engine = Engine()  # Composition: Car contains Engine\n",
    "    def drive(self):\n",
    "        return self.engine.start() + \" and car is driving\"\n",
    "\n",
    "car = Car()\n",
    "print(car.drive())  # Output: Engine started and car is driving"
   ]
  },
  {
   "cell_type": "markdown",
   "id": "fa53b084",
   "metadata": {},
   "source": [
    "#### *Multiple instances* ####\n",
    "Every time we call a class, we generate a new object with a distinct namespace."
   ]
  },
  {
   "cell_type": "code",
   "execution_count": 200,
   "id": "173ac4e9",
   "metadata": {},
   "outputs": [
    {
     "name": "stdout",
     "output_type": "stream",
     "text": [
      "coding\n",
      "3.14159\n",
      "hacking\n"
     ]
    }
   ],
   "source": [
    "class FirstClass: # Define a class object\n",
    "    def setdata(self, value): # Define classe's method\n",
    "        self.data = value # Self is the instance\n",
    "    def display(self):\n",
    "        print(self.data) # self.data: per instance\n",
    "\n",
    "x = FirstClass() # Make two instances\n",
    "y = FirstClass() # Each is a new namespace\n",
    "\n",
    "x.setdata('coding') # Call methods: self is x\n",
    "y.setdata(3.14159)  # Runs: FirstClass.setdata(y, 3.14159)\n",
    "\n",
    "x.display() # Runs: FirstClass.display(x)\n",
    "y.display() # self.data differs in each instance\n",
    "\n",
    "x.data = 'hacking' # can get/set attributes directly\n",
    "x.display()        # outside the class too"
   ]
  },
  {
   "cell_type": "markdown",
   "id": "a451c8fd",
   "metadata": {},
   "source": [
    "#### *Customization via inheritance* ####\n",
    "We can extend a class by redfining its attributes outside the class itself in new software compents coded as subclasses. "
   ]
  },
  {
   "cell_type": "markdown",
   "id": "fc4c6315",
   "metadata": {},
   "source": [
    "Superclasses are listed in parentheses in a class header. The class that inherits is usually called a subclass. Classes inherit attributes from their superclasses. Instances inherit attributes from all accessible classes. Each object.atrribute reference envokes a new, independent search. "
   ]
  },
  {
   "cell_type": "code",
   "execution_count": 201,
   "id": "5d7b2f48",
   "metadata": {},
   "outputs": [
    {
     "name": "stdout",
     "output_type": "stream",
     "text": [
      "Buddy barks: Woof!\n"
     ]
    }
   ],
   "source": [
    "class Animal:\n",
    "    def __init__(self, name):\n",
    "        self.name = name  # Attribute in base class\n",
    "        self.sound = \"Some generic sound\"  # Default attribute\n",
    "    \n",
    "    def make_sound(self):\n",
    "        return f\"{self.name} makes {self.sound}\"\n",
    "\n",
    "class Dog(Animal):\n",
    "    def __init__(self, name):\n",
    "        super().__init__(name)  # Call parent constructor\n",
    "        self.sound = \"Woof!\"  # Redefine attribute for customization\n",
    "    \n",
    "    def make_sound(self):  # Redefine method for customization\n",
    "        return f\"{self.name} barks: {self.sound}\"\n",
    "\n",
    "# Example usage\n",
    "dog = Dog(\"Buddy\")\n",
    "print(dog.make_sound())  # Output: Buddy barks: Woof!"
   ]
  },
  {
   "cell_type": "markdown",
   "id": "d989625e",
   "metadata": {},
   "source": [
    "A note on the use of `super().`: "
   ]
  },
  {
   "cell_type": "markdown",
   "id": "b10ffb59",
   "metadata": {},
   "source": [
    "#### *Operator overloading* ####\n",
    "Operator overloading allows a class to define custom behavior for operators (e.g., +, -, etc.) by implementing special methods (e.g., `__add__`, `__sub__`), without specifically calling the method. Hence, methods become automatic."
   ]
  },
  {
   "cell_type": "code",
   "execution_count": 202,
   "id": "be23ead0",
   "metadata": {},
   "outputs": [
    {
     "name": "stdout",
     "output_type": "stream",
     "text": [
      "Vector(7, 10)\n"
     ]
    }
   ],
   "source": [
    "class Vector:\n",
    "    def __init__(self, x, y):\n",
    "        self.x = x\n",
    "        self.y = y\n",
    "    \n",
    "    def __add__(self, other):\n",
    "        # Overload '+' operator to add two Vector objects\n",
    "        return Vector(self.x + other.x, self.y + other.y)\n",
    "    \n",
    "    def __str__(self):\n",
    "        # String representation for printing\n",
    "        return f\"Vector({self.x}, {self.y})\"\n",
    "\n",
    "# Example usage\n",
    "v1 = Vector(2, 3)\n",
    "v2 = Vector(5, 7)\n",
    "v3 = v1 + v2  # Uses __add__ method\n",
    "print(v3)  # Output: Vector(7, 10)"
   ]
  },
  {
   "cell_type": "markdown",
   "id": "76a5e9fa",
   "metadata": {},
   "source": [
    "#### *Encapsulation* ####\n",
    "Bundling of data (attributes) and methods that operate on that data within a single unit (class), restricting direct access to some of an object’s components to protect its integrity."
   ]
  },
  {
   "cell_type": "code",
   "execution_count": 203,
   "id": "f73d9135",
   "metadata": {},
   "outputs": [
    {
     "name": "stdout",
     "output_type": "stream",
     "text": [
      "1000\n"
     ]
    }
   ],
   "source": [
    "# A simple example of encapsulation in Python\n",
    "class BankAccount:\n",
    "    def __init__(self, balance):\n",
    "        self.__balance = balance  # Private attribute\n",
    "    def deposit(self, amount):\n",
    "        self.__balance += amount\n",
    "    def get_balance(self):\n",
    "        return self.__balance\n",
    "\n",
    "account = BankAccount(1000)\n",
    "print(account.get_balance())  # Output: 1000\n",
    "# print(account.__balance)    # Error: Attribute is private"
   ]
  },
  {
   "cell_type": "markdown",
   "id": "f193d13d",
   "metadata": {},
   "source": [
    "#### *Abstraction* ####\n",
    "Process of hiding complex implementation details and exposing only the essential features of an object. Simplifies interaction with objects by providing a clear interface while concealing underlying complexity. Achieved using abstract classes or interfaces (in languages like Java) or by designing classes with clear, simplified methods."
   ]
  },
  {
   "cell_type": "code",
   "execution_count": 204,
   "id": "716b1942",
   "metadata": {},
   "outputs": [
    {
     "name": "stdout",
     "output_type": "stream",
     "text": [
      "78.5\n"
     ]
    }
   ],
   "source": [
    "from abc import ABC, abstractmethod\n",
    "\n",
    "class Shape(ABC):\n",
    "    @abstractmethod\n",
    "    def area(self):\n",
    "        pass\n",
    "\n",
    "class Circle(Shape):\n",
    "    def __init__(self, radius):\n",
    "        self.radius = radius\n",
    "    def area(self):\n",
    "        return 3.14 * self.radius ** 2\n",
    "\n",
    "circle = Circle(5)\n",
    "print(circle.area())  # Output: 78.5"
   ]
  },
  {
   "cell_type": "markdown",
   "id": "75a70046",
   "metadata": {},
   "source": [
    "## A Realistic example ##"
   ]
  },
  {
   "cell_type": "code",
   "execution_count": 205,
   "id": "de9a128b",
   "metadata": {},
   "outputs": [],
   "source": [
    "# This time with more details.\n",
    "\n",
    "class Person: # The Class (or superclass).\n",
    "    def __init__(self, name, job, pay): # A constructor method to initialize the object. These methods are called when an object (or instance) is created.\n",
    "        \"\"\"\n",
    "        Initialize the Person class with name, job, and pay attributes.\n",
    "        Sometimes considered operator overloading, this method is called when an object is created.\n",
    "        May pass positional or keyword arguments to the constructor.\n",
    "        self refers to the instance of the class being created.\n",
    "        \"\"\"\n",
    "        self.name = name # Considered an instance variable, attribute or behavior.\n",
    "        self.job = job\n",
    "        self.pay = pay\n",
    "    \n",
    "    def giveRaise(self, percent): # A method (function) to modify the object's state.\n",
    "        \"\"\"\n",
    "        Increase the pay of the person by a given percentage.\n",
    "        \"\"\"\n",
    "        self.pay *= int(1.0 + percent)\n",
    "\n",
    "    def __str__(self): # May also use __repr__ for debugging purposes.\n",
    "        \"\"\"\n",
    "        It provides a string representation of the object, making it more readable when printed.\n",
    "        __str__ is empty by default, calling print() on an object will return the reference of the object. EG: <__main__.Person object at 0x108a2b770>\n",
    "        This is also known as operator overloading, allowing you to define how the object should be represented as a string.\n",
    "        This method is automatically called when you use print() or str() on the object.\n",
    "        \"\"\"\n",
    "        return f'{self.name} works as a {self.job} and earns ${self.pay:,}' # Any string representation of the object."
   ]
  },
  {
   "cell_type": "code",
   "execution_count": 206,
   "id": "0219f184",
   "metadata": {},
   "outputs": [
    {
     "name": "stdout",
     "output_type": "stream",
     "text": [
      "Bob Smith\n",
      "50000\n",
      "python engineer\n",
      "[('name', 'Bob Smith'), ('job', 'python engineer'), ('pay', 50000)]\n",
      "Bob Smith works as a python engineer and earns $50,000\n"
     ]
    }
   ],
   "source": [
    "bob = Person('Bob Smith', 'python engineer', 50000) # Create an instance of the Person class.\n",
    "bob.giveRaise(0.10) # Call the giveRaise method on the bob object, increasing his pay by 10%.\n",
    "\n",
    "print(bob.name) # Access the name attribute of the bob object.\n",
    "print(bob.pay)\n",
    "print(bob.job) # Access the job attribute of the bob object.\n",
    "print(list(bob.__dict__.items())) # Print the attributes of the bob object as a list of tuples.\n",
    "print(bob)"
   ]
  },
  {
   "cell_type": "markdown",
   "id": "a6a930d6",
   "metadata": {},
   "source": [
    "`bob` is now a namespace for the `person` class object at a specific reference point. \n",
    "`__dict__` stores all the attributes assigned. "
   ]
  }
 ],
 "metadata": {
  "kernelspec": {
   "display_name": "Python 3",
   "language": "python",
   "name": "python3"
  },
  "language_info": {
   "codemirror_mode": {
    "name": "ipython",
    "version": 3
   },
   "file_extension": ".py",
   "mimetype": "text/x-python",
   "name": "python",
   "nbconvert_exporter": "python",
   "pygments_lexer": "ipython3",
   "version": "3.13.3"
  }
 },
 "nbformat": 4,
 "nbformat_minor": 5
}
