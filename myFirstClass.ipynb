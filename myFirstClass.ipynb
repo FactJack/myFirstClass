{
 "cells": [
  {
   "cell_type": "markdown",
   "id": "ef5df54c",
   "metadata": {},
   "source": [
    "# Object Oriented Programming - The Big Idea\n",
    "--- Program by customizing what has already been done, rather than copying or changing existing code. ---\n",
    "\n",
    "*Boring Definition:* Object-Oriented Programming (OOP) is a programming paradigm that organizes code around objects, which are instances of classes. It emphasizes modeling real-world entities as objects that have data (attributes) and behavior (methods) bundled together. OOP aims to make code more modular, reusable, and easier to maintain by structuring it around these objects and their interactions.\n",
    "\n",
    "*`Class`*: A blueprint or template that defines the structure (attributes) and behavior (methods) of objects. It acts as a user-defined data type.\n",
    "\n",
    "*`Object`*: Sometimes referred to an instance of a class, representing a specific entity with the defined attributes and behaviors. \n",
    "\n",
    "You already experienced objects, such as `str` and `int`. <br>\n",
    " `str` and `int` are classes that defined the objects (or instances) called. "
   ]
  },
  {
   "cell_type": "code",
   "execution_count": 1,
   "id": "d40576b8",
   "metadata": {},
   "outputs": [
    {
     "name": "stdout",
     "output_type": "stream",
     "text": [
      "Buddy says Woof!\n"
     ]
    }
   ],
   "source": [
    "# A simple example of a class object in Python\n",
    "# You may also say this is a class definition, or an object that defines a class.\n",
    "\n",
    "class Dog:\n",
    "    def __init__(self, name): # Self is the instance\n",
    "        self.name = name  # Attribute\n",
    "    def bark(self):      # Method\n",
    "        return f'{self.name} says Woof!'\n",
    "\n",
    "dog = Dog(\"Buddy\")  # Object (or instance) of the Dog class\n",
    "print(dog.bark())   # Call the method bark on the dog object\n",
    "# Output: Buddy says Woof!"
   ]
  },
  {
   "cell_type": "markdown",
   "id": "359ee55c",
   "metadata": {},
   "source": [
    "## Aspects ##"
   ]
  },
  {
   "cell_type": "markdown",
   "id": "807ef7b6",
   "metadata": {},
   "source": [
    "#### *Inheritance* #### \n",
    "A mechanism where a new class (subclass or derived class) inherits properties and behaviors (attributes and methods) from an existing class (superclass or base class). Promotes code reuse and establishes a hierarchical relationship between classes. EG: Pizza-making robots are kinds of robots, so they possess the usual robot-y properties. "
   ]
  },
  {
   "cell_type": "markdown",
   "id": "3b1f0ab9",
   "metadata": {},
   "source": [
    "Attribute Inheritance Search: Find the first occurrence of the attribute by looking in object, then in all classes above it, from bottom to top and left to right.\n",
    "\n",
    "In other words, attribute fetches are simply tree searches. "
   ]
  },
  {
   "cell_type": "code",
   "execution_count": 2,
   "id": "1d436827",
   "metadata": {},
   "outputs": [
    {
     "name": "stdout",
     "output_type": "stream",
     "text": [
      "Eating...\n",
      "Woof!\n"
     ]
    }
   ],
   "source": [
    "# A simple example of inheritance in Python\n",
    "class Animal:\n",
    "    def eat(self):\n",
    "        return \"Eating...\"\n",
    "\n",
    "class Dog(Animal):  # Dog inherits from Animal\n",
    "    def bark(self):\n",
    "        return \"Woof!\"\n",
    "\n",
    "dog = Dog()\n",
    "print(dog.eat())   # Output: Eating... (inherited)\n",
    "print(dog.bark())  # Output: Woof!"
   ]
  },
  {
   "cell_type": "markdown",
   "id": "017f3e92",
   "metadata": {},
   "source": [
    "#### *Composition* ####"
   ]
  },
  {
   "cell_type": "markdown",
   "id": "b94f1c64",
   "metadata": {},
   "source": [
    "Association: A general relationship between objects where they interact but remain independent. <br>\n",
    "Aggregation: A special form of association where one object contains or manages a collection of other objects (a \"has-a\" relationship, but objects can exist independently). <br>\n",
    "Composition: A stronger form of aggregation where the contained objects are dependent on the container (if the container is destroyed, so are the contained objects)."
   ]
  },
  {
   "cell_type": "code",
   "execution_count": 3,
   "id": "f37124fd",
   "metadata": {},
   "outputs": [
    {
     "name": "stdout",
     "output_type": "stream",
     "text": [
      "Engine started and car is driving\n"
     ]
    }
   ],
   "source": [
    "# A simple example of Composition in Python\n",
    "class Engine:\n",
    "    def start(self):\n",
    "        return \"Engine started\"\n",
    "\n",
    "class Car:\n",
    "    def __init__(self):\n",
    "        self.engine = Engine()  # Composition: Car contains Engine\n",
    "    def drive(self):\n",
    "        return self.engine.start() + \" and car is driving\"\n",
    "\n",
    "car = Car()\n",
    "print(car.drive())  # Output: Engine started and car is driving"
   ]
  },
  {
   "cell_type": "markdown",
   "id": "fa53b084",
   "metadata": {},
   "source": [
    "#### *Multiple instances* ####\n",
    "Every time we call a class, we generate a new object with a distinct namespace."
   ]
  },
  {
   "cell_type": "code",
   "execution_count": 4,
   "id": "173ac4e9",
   "metadata": {},
   "outputs": [
    {
     "name": "stdout",
     "output_type": "stream",
     "text": [
      "coding\n",
      "3.14159\n",
      "hacking\n"
     ]
    }
   ],
   "source": [
    "class FirstClass: # Define a class object\n",
    "    def setdata(self, value): # Define classe's method\n",
    "        self.data = value # Self is the instance\n",
    "    def display(self):\n",
    "        print(self.data) # self.data: per instance\n",
    "\n",
    "x = FirstClass() # Make two instances\n",
    "y = FirstClass() # Each is a new namespace\n",
    "\n",
    "x.setdata('coding') # Call methods: self is x\n",
    "y.setdata(3.14159)  # Runs: FirstClass.setdata(y, 3.14159)\n",
    "\n",
    "x.display() # Runs: FirstClass.display(x)\n",
    "y.display() # self.data differs in each instance\n",
    "\n",
    "x.data = 'hacking' # can get/set attributes directly outside the class too\n",
    "x.display()"
   ]
  },
  {
   "cell_type": "markdown",
   "id": "a451c8fd",
   "metadata": {},
   "source": [
    "#### *Customization via inheritance* ####\n",
    "We can extend a class by redefining its attributes outside the class itself in new software componets coded as subclasses. "
   ]
  },
  {
   "cell_type": "markdown",
   "id": "fc4c6315",
   "metadata": {},
   "source": [
    "Superclasses are listed in parentheses in a class header. The class that inherits is usually called a subclass. Classes inherit attributes from their superclasses. Instances inherit attributes from all accessible classes. Each object.atrribute reference envokes a new, independent search. "
   ]
  },
  {
   "cell_type": "code",
   "execution_count": 5,
   "id": "5d7b2f48",
   "metadata": {},
   "outputs": [
    {
     "name": "stdout",
     "output_type": "stream",
     "text": [
      "Buddy barks: Woof!\n"
     ]
    }
   ],
   "source": [
    "class Animal:\n",
    "    def __init__(self, name):\n",
    "        self.name = name  # Attribute in base class\n",
    "        self.sound = \"Some generic sound\"  # Default attribute\n",
    "    \n",
    "    def make_sound(self):\n",
    "        return f\"{self.name} makes {self.sound}\"\n",
    "\n",
    "class Dog(Animal):\n",
    "    def __init__(self, name):\n",
    "        super().__init__(name)  # Call parent constructor\n",
    "        self.sound = \"Woof!\"  # Redefine attribute for customization\n",
    "    \n",
    "    def make_sound(self):  # Redefine method for customization\n",
    "        return f\"{self.name} barks: {self.sound}\"\n",
    "\n",
    "# Example usage\n",
    "dog = Dog(\"Buddy\")\n",
    "print(dog.make_sound())  # Output: Buddy barks: Woof!"
   ]
  },
  {
   "cell_type": "markdown",
   "id": "d989625e",
   "metadata": {},
   "source": [
    "A note on the use of `super().`: "
   ]
  },
  {
   "cell_type": "markdown",
   "id": "b10ffb59",
   "metadata": {},
   "source": [
    "#### *Operator overloading* ####\n",
    "Operator overloading allows a class to define custom behavior for operators (e.g., +, -, etc.) by implementing special methods (e.g., `__add__`, `__sub__`), without specifically calling the method. Hence, methods become automatic."
   ]
  },
  {
   "cell_type": "code",
   "execution_count": 6,
   "id": "be23ead0",
   "metadata": {},
   "outputs": [
    {
     "name": "stdout",
     "output_type": "stream",
     "text": [
      "Vector(7, 10)\n"
     ]
    }
   ],
   "source": [
    "class Vector:\n",
    "    def __init__(self, x, y):\n",
    "        self.x = x\n",
    "        self.y = y\n",
    "    \n",
    "    def __add__(self, other):\n",
    "        # Overload '+' operator to add two Vector objects\n",
    "        return Vector(self.x + other.x, self.y + other.y)\n",
    "    \n",
    "    def __str__(self):\n",
    "        # String representation for printing\n",
    "        return f\"Vector({self.x}, {self.y})\"\n",
    "\n",
    "# Example usage\n",
    "v1 = Vector(2, 3)\n",
    "v2 = Vector(5, 7)\n",
    "v3 = v1 + v2  # Uses __add__ method\n",
    "print(v3)  # Output: Vector(7, 10)"
   ]
  },
  {
   "cell_type": "markdown",
   "id": "76a5e9fa",
   "metadata": {},
   "source": [
    "#### *Encapsulation* ####\n",
    "Bundling of data (attributes) and methods that operate on that data within a single unit (class), restricting direct access to some of an object’s components to protect its integrity."
   ]
  },
  {
   "cell_type": "code",
   "execution_count": 7,
   "id": "f73d9135",
   "metadata": {},
   "outputs": [
    {
     "name": "stdout",
     "output_type": "stream",
     "text": [
      "1000\n"
     ]
    }
   ],
   "source": [
    "# A simple example of encapsulation in Python\n",
    "class BankAccount:\n",
    "    def __init__(self, balance):\n",
    "        self.__balance = balance  # Private attribute\n",
    "    def deposit(self, amount):\n",
    "        self.__balance += amount\n",
    "    def get_balance(self):\n",
    "        return self.__balance\n",
    "\n",
    "account = BankAccount(1000)\n",
    "print(account.get_balance())  # Output: 1000\n",
    "# print(account.__balance)    # Error: Attribute is private"
   ]
  },
  {
   "cell_type": "markdown",
   "id": "f193d13d",
   "metadata": {},
   "source": [
    "#### *Abstraction* ####\n",
    "Process of hiding complex implementation details and exposing only the essential features of an object. Simplifies interaction with objects by providing a clear interface while concealing underlying complexity. Achieved using abstract classes or interfaces (in languages like Java) or by designing classes with clear, simplified methods."
   ]
  },
  {
   "cell_type": "code",
   "execution_count": 8,
   "id": "716b1942",
   "metadata": {},
   "outputs": [
    {
     "name": "stdout",
     "output_type": "stream",
     "text": [
      "78.5\n"
     ]
    }
   ],
   "source": [
    "from abc import ABC, abstractmethod\n",
    "\n",
    "class Shape(ABC):\n",
    "    @abstractmethod\n",
    "    def area(self):\n",
    "        pass\n",
    "\n",
    "class Circle(Shape):\n",
    "    def __init__(self, radius):\n",
    "        self.radius = radius\n",
    "    def area(self):\n",
    "        return 3.14 * self.radius ** 2\n",
    "\n",
    "circle = Circle(5)\n",
    "print(circle.area())  # Output: 78.5"
   ]
  },
  {
   "cell_type": "markdown",
   "id": "75a70046",
   "metadata": {},
   "source": [
    "## A Realistic example ##"
   ]
  },
  {
   "cell_type": "code",
   "execution_count": 9,
   "id": "de9a128b",
   "metadata": {},
   "outputs": [],
   "source": [
    "# This time with more details.\n",
    "\n",
    "class Person: # The Class (or superclass).\n",
    "    def __init__(self, name, job=None, pay=0): # A constructor method to initialize the object. These methods are called when an object (or instance) is created.\n",
    "        \"\"\"\n",
    "        Initialize the Person class with name, job, and pay attributes.\n",
    "        Sometimes considered operator overloading, this method is called when an object is created.\n",
    "        May pass positional or keyword arguments to the constructor.\n",
    "        self refers to the instance of the class being created.\n",
    "        \"\"\"\n",
    "        self.name = name # Considered an instance variable, attribute or behavior.\n",
    "        self.job = job\n",
    "        self.pay = pay\n",
    "    \n",
    "    def lastName(self): # A method (function) to split full name and return the last name.\n",
    "        return self.name.split()[-1] # Using the name attribute constructed in __init__.\n",
    "    \n",
    "    def giveRaise(self, percent): # A method (function) to modify the object's state.\n",
    "        \"\"\"\n",
    "        Increase the pay of the person by a given percentage.\n",
    "        \"\"\"\n",
    "        self.pay *= int(1.0 + percent)\n",
    "\n",
    "    def __str__(self): # May also use __repr__ for debugging purposes.\n",
    "        \"\"\"\n",
    "        It provides a string representation of the object, making it more readable when printed.\n",
    "        __str__ is empty by default, calling print() on an object will return the reference of the object. EG: <__main__.Person object at 0x108a2b770>\n",
    "        This is also known as operator overloading, allowing you to define how the object should be represented as a string.\n",
    "        This method is automatically called when you use print() or str() on the object.\n",
    "        \"\"\"\n",
    "        return f'{self.name} works as a {self.job} and earns ${self.pay:,}' # Any string representation of the object."
   ]
  },
  {
   "cell_type": "code",
   "execution_count": 10,
   "id": "f0454ef6",
   "metadata": {},
   "outputs": [],
   "source": [
    "class Manager(Person): # Define a subclass, inheriting from Person.\n",
    "    def __init__(self, name, pay): # Redefine the constructor for the Manager class.\n",
    "        Person.__init__(self, name, 'manager', pay) # Call the superclass constructor. Manager will have a default job of 'manager'.\n",
    "    def giveRaise(self, percent, bonus=.1): # Overriding the giveRaise method to add a bonus.\n",
    "        Person.giveRaise(self, percent + bonus) # Call the superclass method with the modified percentage.\n",
    "        # bad coding: self.pay(int(self.pay * (1 + percent + bonus)))\n",
    "        # Not just because it's copy/paste (Don't Repeat Yourself), but if you modify the superclass method, you have to modify this one too."
   ]
  },
  {
   "cell_type": "markdown",
   "id": "1ff1e38a",
   "metadata": {},
   "source": [
    "Although we could have simply coded Manager from scratch as new, independent code, we would have had to implement all the behaviors in Person that are the same for Managers. <br>\n",
    "Although we could have simply changed the existing Person class in place for the requirements of Manager's giveRaise, doing so would break code that still needs the original Person behavior. <br>\n",
    "Although we could have simply copied the Person class in its entirety, renamed the copy to Manager, and changed it's giveRaise, doing so would introduce code redundancy that would double our work in the future -- changes made to Person in the future would not be picked up automatically, but would have to be manually propagated to Manager's code. As usual, the cut-and-paste approach may seem quick now, but it doubles your work in the future. <br>\n",
    "\n",
    "Building with *customizable hierarchies* provides a much better solution for software that will evolve over time."
   ]
  },
  {
   "cell_type": "markdown",
   "id": "618fa93e",
   "metadata": {},
   "source": [
    "Testing your code: <br>\n",
    "There's many ways to test code, the simpliest one is a `__name__` check. Modules within a program are imported to the top-level module. If you want to test the code use this standard name check and run the module as a top-level script. This name check does not interfere with importing modules because `import module` assigns `module` to `__name__`. "
   ]
  },
  {
   "cell_type": "code",
   "execution_count": 11,
   "id": "ed35e50c",
   "metadata": {},
   "outputs": [
    {
     "name": "stdout",
     "output_type": "stream",
     "text": [
      "Bob Smith 0\n",
      "Sue Jones 100000\n",
      "Sue Jones works as a dev and earns $100,000\n",
      "Jones\n",
      "Pat Jones works as a manager and earns $50,000\n"
     ]
    }
   ],
   "source": [
    "if __name__ == '__main__': # When run for testing purposes.\n",
    "    bob = Person('Bob Smith') # Create an instance of the Person class. Uses default job and pay.\n",
    "    sue = Person('Sue Jones', job='dev', pay = 100000)\n",
    "    print(bob.name, bob.pay) # Access the name, pay attributes of the bob object.\n",
    "    print(sue.name, sue.pay) \n",
    "    sue.giveRaise(0.10) # Call the giveRaise method on the sue object, increasing his pay by 10%.\n",
    "    print(sue)\n",
    "    pat = Manager('Pat Jones', 50000) # Create an instance of the Manager class.\n",
    "    pat.giveRaise(0.10) # Call the giveRaise method on the pat object, increasing his pay by 10% plus a bonus.\n",
    "    print(pat.lastName())\n",
    "    print(pat)"
   ]
  },
  {
   "cell_type": "code",
   "execution_count": 12,
   "id": "0219f184",
   "metadata": {},
   "outputs": [
    {
     "name": "stdout",
     "output_type": "stream",
     "text": [
      "[('name', 'Bob Smith'), ('job', None), ('pay', 0)]\n",
      "Bob Smith works as a None and earns $0\n"
     ]
    }
   ],
   "source": [
    "print(list(bob.__dict__.items())) # Print the attributes of the bob object as a list of tuples.\n",
    "print(bob) # Access the __str__ method to get a string representation of the bob object, instead of the default object reference."
   ]
  },
  {
   "cell_type": "markdown",
   "id": "a6a930d6",
   "metadata": {},
   "source": [
    "`bob` is now a namespace for the `person` class object at a specific reference point. \n",
    "`__dict__` stores all the attributes assigned. "
   ]
  },
  {
   "cell_type": "markdown",
   "id": "badb98ba",
   "metadata": {},
   "source": [
    "## Keeping it Simple ##\n",
    "Simple concepts: <br>\n",
    "Instance Creation -- filling out instance attributes <br>\n",
    "Behavior methods -- encapsulating logic in a class's methods<br>\n",
    "Operator overloading -- providing behavior for built-in operations like printing <br>\n",
    "Customizing behavior -- redefining methods in sublcasses to specialize them <br>\n",
    "Customizing constrcutors -- adding intialization logic to superclass steps <br>\n",
    "<br>\n",
    "Based on Simple Ideas: <br>\n",
    "Inheritance search for attributes in object trees, the self argument in methods, and operator overloading's automatic dispatch to methods. <br>\n",
    "<br>"
   ]
  },
  {
   "cell_type": "markdown",
   "id": "60304217",
   "metadata": {},
   "source": [
    "# OOP and Beyond #\n",
    "\n"
   ]
  },
  {
   "cell_type": "markdown",
   "id": "717c0b78",
   "metadata": {},
   "source": [
    "## Delegation and the `__getattr__` method. ##\n",
    "In the prior example, the `Manager` class used inheritance to look up to it's superclass' methods. We can use `__getattr__` to call down the tree..."
   ]
  },
  {
   "cell_type": "code",
   "execution_count": null,
   "id": "a4562d26",
   "metadata": {},
   "outputs": [
    {
     "name": "stdout",
     "output_type": "stream",
     "text": [
      "Jones\n",
      "Pat Jones works as a manager and earns $50,000\n"
     ]
    }
   ],
   "source": [
    "class Manager:\n",
    "    def __init__(self, name, pay): # No change\n",
    "        self.person = Person(name, 'manager', pay)\n",
    "    def giveRaise(self, percent, bonus = 0.1): # No change\n",
    "        self.person.giveRaise(percent + bonus)\n",
    "\n",
    "    def __getattr__(self, attr):\n",
    "        \"\"\"\n",
    "        This method is called when an attribute is not found in the instance's dictionary.\n",
    "        It allows us to delegate attribute access to the Person instance.\n",
    "        \"\"\"\n",
    "        return getattr(self.person, attr)  # Delegate to the Person instance's attributes and methods.\n",
    "    \n",
    "    def __repr__(self):\n",
    "        return str(self.person)  \n",
    "        \"\"\"\n",
    "        Wait, shouldn't __getattr__ handle this too? \n",
    "        No, because __getattr__ is only called for attributes that don't exist in the instance's __dict__.\n",
    "        __repr__ is a special method (operator overloading) that should be defined explicitly to provide a string representation of the object.\n",
    "        Built-in operations like __repr__ and __add__ do not route their implicit attributes fetches through generic attribute managers like __getattr__, __getattribute__. \n",
    "        Thus if using the delegation method, you must redefine operator overloading redundantly. \n",
    "        \"\"\"\n",
    "\n",
    "if __name__ == '__main__': # Once again, for running code for testing purposes.\n",
    "    pat = Manager('Pat Jones', 50000) # Embed a Person object in the Manager class.\n",
    "    pat.giveRaise(.10) # Run Manager.giveRaise, which calls Person.giveRaise.\n",
    "    print(pat.lastName()) # Delegate to embedded Person's lastName method. Calls __getattr_.\n",
    "    print(pat) # Run Manager.__repr__, which calls Person.__str__.\n",
    "    # This is a simple example of delegation in Python, where the Manager class delegates attribute access to the Person instance it contains."
   ]
  },
  {
   "cell_type": "markdown",
   "id": "0e35ccd1",
   "metadata": {},
   "source": [
    "Requires more code up front, hence inheritance is more practical for our `Manager` class. <br>\n",
    "Essentially, we made the alternative `Manager` a controller, or proxy, class. This may come in handy if we want to adapt a class to an expected interface it does not support..."
   ]
  },
  {
   "cell_type": "code",
   "execution_count": 14,
   "id": "c5ed1f4b",
   "metadata": {},
   "outputs": [
    {
     "name": "stdout",
     "output_type": "stream",
     "text": [
      "Bob Smith works as a None and earns $0\n",
      "Sue Jones works as a dev and earns $100,000\n",
      "Pat Jones works as a manager and earns $50,000\n"
     ]
    }
   ],
   "source": [
    "class Department:\n",
    "    def __init__(self, *args):\n",
    "        self.members = list(args) # Store the members in a list.\n",
    "    def addMember(self, person):\n",
    "        self.members.append(person) # Add a new member to the department.\n",
    "    def giveRaises(self, percent):\n",
    "        for person in self.members: # Apply methods to all objects in the list.\n",
    "            person.giveRaise(percent)\n",
    "    def showAll(self):\n",
    "        for person in self.members: # Display all nested objects.\n",
    "            print(person)\n",
    "\n",
    "development = Department(bob, sue) # Embeds objects in a compsite object.\n",
    "development.addMember(pat)\n",
    "development.giveRaises(0.10) # Runs embedded objects' giveRaise methods.\n",
    "development.showAll() # Runs embedded objects __repr__ methods. "
   ]
  },
  {
   "cell_type": "code",
   "execution_count": 20,
   "id": "1182abe6",
   "metadata": {},
   "outputs": [
    {
     "name": "stdout",
     "output_type": "stream",
     "text": [
      "<class '__main__.Manager'>\n",
      "Manager\n",
      "person => Pat Jones works as a manager and earns $50,000\n",
      "person => Pat Jones works as a manager and earns $50,000\n"
     ]
    }
   ],
   "source": [
    "print(pat.__class__)\n",
    "print(pat.__class__.__name__)\n",
    "for key in pat.__dict__: print(key,'=>',pat.__dict__[key])\n",
    "for key in pat.__dict__: print(key,'=>',getattr(pat,key))"
   ]
  },
  {
   "cell_type": "markdown",
   "id": "e2417864",
   "metadata": {},
   "source": [
    "## Generic Display Tool ##\n",
    "`__repr__` display overload using generic introspection tools, will work on any instance, regardless of the instance's attribute set. "
   ]
  },
  {
   "cell_type": "code",
   "execution_count": null,
   "id": "820f2a3e",
   "metadata": {},
   "outputs": [
    {
     "name": "stdout",
     "output_type": "stream",
     "text": [
      "[TopTest: attr1=1, attr2=2]\n",
      "[SubTest: attr1=2, attr2=4]\n"
     ]
    }
   ],
   "source": [
    "# Assorted class utilities and tools\n",
    "\n",
    "class AttrDisplay:\n",
    "    \"\"\"\n",
    "    Provides an inheritable display overload method that shows instances with their class names and a name=value pair \n",
    "    for each attribute stored on the instance itself (but not attrs inherited from its classes).\n",
    "    Can be mixed into any class, will work on any instance, regardless of the instance's attribute set.\n",
    "    \"\"\"\n",
    "    def gatherAttrs(self):\n",
    "        attrs = []\n",
    "        for key in sorted(self.__dict__): # Use instance's dict to gather attr=value pairs.\n",
    "            attrs.append(f'{key}={getattr(self, key)}') # getattr fetches the attribute.\n",
    "        return ', '.join(attrs) # Return a single string of comma-separated attr=value pairs.\n",
    "    \n",
    "    def __repr__(self):\n",
    "        return f'[{self.__class__.__name__}: {self.gatherAttrs()}]' # Uses class name and gatherAttrs.\n",
    "\n",
    "if __name__ == '__main__': # Simple test code.\n",
    "    class TopTest(AttrDisplay): # Inherits from AttrDisplay.\n",
    "        count = 0 # Class variable.\n",
    "        def __init__(self):\n",
    "            TopTest.count += 1 # Update class variable.\n",
    "            self.attr1 = TopTest.count # Instance variable.\n",
    "            self.attr2 = TopTest.count * 2 # Instance variable.\n",
    "    \n",
    "    class SubTest(TopTest): # Inherits from TopTest (and thus AttrDisplay).\n",
    "        pass\n",
    "\n",
    "    X, Y = TopTest(), SubTest() # Make two instances\n",
    "    print(X) # Implicitly calls X.__repr__()\n",
    "    print(Y)"
   ]
  },
  {
   "cell_type": "code",
   "execution_count": null,
   "id": "233d8a93",
   "metadata": {},
   "outputs": [],
   "source": [
    "# Hence forth, we can use AttrDisplay as a mix-in to add display capabilities to any class.\n",
    "\n",
    "\"\"\"\n",
    "This isn't even my final form!\n",
    "\"\"\"\n",
    "\n",
    "class Person(AttrDisplay): # Inherit from AttrDisplay to get display capabilities.\n",
    "    def __init__(self, name, job=None, pay=0):\n",
    "        self.name = name\n",
    "        self.job = job\n",
    "        self.pay = pay\n",
    "            \n",
    "    def lastName(self):\n",
    "        return self.name.split()[-1]\n",
    "    \n",
    "    def giveRaise(self, percent):\n",
    "        self.pay *= int(1.0 + percent)\n",
    "\n",
    "class Manager(Person): # Inherit from Person, which already inherits from AttrDisplay.\n",
    "    def __init__(self, name, pay):\n",
    "        Person.__init__(self, name, 'manager', pay)\n",
    "        \n",
    "    def giveRaise(self, percent, bonus=0.1):\n",
    "        Person.giveRaise(self, percent + bonus)\n",
    "\n"
   ]
  }
 ],
 "metadata": {
  "kernelspec": {
   "display_name": "Python 3",
   "language": "python",
   "name": "python3"
  },
  "language_info": {
   "codemirror_mode": {
    "name": "ipython",
    "version": 3
   },
   "file_extension": ".py",
   "mimetype": "text/x-python",
   "name": "python",
   "nbconvert_exporter": "python",
   "pygments_lexer": "ipython3",
   "version": "3.13.3"
  }
 },
 "nbformat": 4,
 "nbformat_minor": 5
}
